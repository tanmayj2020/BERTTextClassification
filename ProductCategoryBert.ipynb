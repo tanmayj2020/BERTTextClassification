{
  "nbformat": 4,
  "nbformat_minor": 0,
  "metadata": {
    "colab": {
      "name": "ProductCategoryBert.ipynb",
      "provenance": []
    },
    "kernelspec": {
      "name": "python3",
      "display_name": "Python 3"
    },
    "language_info": {
      "name": "python"
    },
    "accelerator": "GPU"
  },
  "cells": [
    {
      "cell_type": "markdown",
      "metadata": {
        "id": "m_qbltMPZxkO"
      },
      "source": [
        "# **TASK 3**\n",
        "\n",
        "Submitted By - Tanmay Jain \n",
        " DTU 2nd Year BTECH \n",
        "Used Bert for performing the text classification knowing all the maths behind transformers and Bert \n",
        "Fine tuning of BERT has been  instead of training entirely scratch which would have given good results \n"
      ]
    },
    {
      "cell_type": "markdown",
      "metadata": {
        "id": "u5GhAsldgVSX"
      },
      "source": [
        "## Importing the required libraries"
      ]
    },
    {
      "cell_type": "code",
      "metadata": {
        "id": "yM87S3vf3B2f",
        "colab": {
          "base_uri": "https://localhost:8080/"
        },
        "outputId": "ff58212c-ac69-44e2-8d65-45a7a865fa90"
      },
      "source": [
        "#Installing hugging face transformer library \n",
        "!pip install transformers"
      ],
      "execution_count": 109,
      "outputs": [
        {
          "output_type": "stream",
          "text": [
            "Requirement already satisfied: transformers in /usr/local/lib/python3.7/dist-packages (4.5.0)\n",
            "Requirement already satisfied: packaging in /usr/local/lib/python3.7/dist-packages (from transformers) (20.9)\n",
            "Requirement already satisfied: tqdm>=4.27 in /usr/local/lib/python3.7/dist-packages (from transformers) (4.41.1)\n",
            "Requirement already satisfied: sacremoses in /usr/local/lib/python3.7/dist-packages (from transformers) (0.0.44)\n",
            "Requirement already satisfied: numpy>=1.17 in /usr/local/lib/python3.7/dist-packages (from transformers) (1.19.5)\n",
            "Requirement already satisfied: requests in /usr/local/lib/python3.7/dist-packages (from transformers) (2.23.0)\n",
            "Requirement already satisfied: regex!=2019.12.17 in /usr/local/lib/python3.7/dist-packages (from transformers) (2019.12.20)\n",
            "Requirement already satisfied: tokenizers<0.11,>=0.10.1 in /usr/local/lib/python3.7/dist-packages (from transformers) (0.10.2)\n",
            "Requirement already satisfied: filelock in /usr/local/lib/python3.7/dist-packages (from transformers) (3.0.12)\n",
            "Requirement already satisfied: importlib-metadata; python_version < \"3.8\" in /usr/local/lib/python3.7/dist-packages (from transformers) (3.8.1)\n",
            "Requirement already satisfied: pyparsing>=2.0.2 in /usr/local/lib/python3.7/dist-packages (from packaging->transformers) (2.4.7)\n",
            "Requirement already satisfied: six in /usr/local/lib/python3.7/dist-packages (from sacremoses->transformers) (1.15.0)\n",
            "Requirement already satisfied: click in /usr/local/lib/python3.7/dist-packages (from sacremoses->transformers) (7.1.2)\n",
            "Requirement already satisfied: joblib in /usr/local/lib/python3.7/dist-packages (from sacremoses->transformers) (1.0.1)\n",
            "Requirement already satisfied: urllib3!=1.25.0,!=1.25.1,<1.26,>=1.21.1 in /usr/local/lib/python3.7/dist-packages (from requests->transformers) (1.24.3)\n",
            "Requirement already satisfied: idna<3,>=2.5 in /usr/local/lib/python3.7/dist-packages (from requests->transformers) (2.10)\n",
            "Requirement already satisfied: certifi>=2017.4.17 in /usr/local/lib/python3.7/dist-packages (from requests->transformers) (2020.12.5)\n",
            "Requirement already satisfied: chardet<4,>=3.0.2 in /usr/local/lib/python3.7/dist-packages (from requests->transformers) (3.0.4)\n",
            "Requirement already satisfied: zipp>=0.5 in /usr/local/lib/python3.7/dist-packages (from importlib-metadata; python_version < \"3.8\"->transformers) (3.4.1)\n",
            "Requirement already satisfied: typing-extensions>=3.6.4; python_version < \"3.8\" in /usr/local/lib/python3.7/dist-packages (from importlib-metadata; python_version < \"3.8\"->transformers) (3.7.4.3)\n"
          ],
          "name": "stdout"
        }
      ]
    },
    {
      "cell_type": "markdown",
      "metadata": {
        "id": "iMHiktKNbL_4"
      },
      "source": [
        "Below code block imports all the required libraries"
      ]
    },
    {
      "cell_type": "code",
      "metadata": {
        "id": "mwsP8eEwyaDm"
      },
      "source": [
        "#importing pytorch \n",
        "import torch \n",
        "#tqdm for interactive visualization bar\n",
        "from tqdm.notebook import tqdm \n",
        "#BertTokenizer converting input sentence to token using Wordpiece tokenizer\n",
        "from transformers import BertTokenizer \n",
        "#For creating the dataset which is fed to DataLoader which using a sampler provides data in batch without consuming much memory \n",
        "from torch.utils.data import TensorDataset \n",
        "#BertForSequenceClassification is bert plus one fully connected layer\n",
        "from transformers import BertForSequenceClassification\n",
        "\n",
        "#Numpy and Pandas required packages for data manipulation\n",
        "import numpy as np\n",
        "import pandas as pd\n",
        "\n",
        "#matplotlib for visualization\n",
        "import matplotlib.pyplot as plt"
      ],
      "execution_count": 119,
      "outputs": []
    },
    {
      "cell_type": "markdown",
      "metadata": {
        "id": "UU77yR4zgdXH"
      },
      "source": [
        "## Reading the dataset"
      ]
    },
    {
      "cell_type": "markdown",
      "metadata": {
        "id": "xAUPR6GYccLJ"
      },
      "source": [
        "Below code block reads the dataset which I stored in my google drive and displays top 5 rows of the dataset "
      ]
    },
    {
      "cell_type": "code",
      "metadata": {
        "colab": {
          "base_uri": "https://localhost:8080/",
          "height": 467
        },
        "id": "qqIrceR5AJsP",
        "outputId": "59eb4e9a-fe31-41ac-b9ed-13dfce7a196b"
      },
      "source": [
        "#Reading the dataset\n",
        "data = pd.read_csv(\"drive/MyDrive/flipkart_dataset.csv\")\n",
        "#Viewing the top 5 rows of dataset\n",
        "data.head()"
      ],
      "execution_count": 130,
      "outputs": [
        {
          "output_type": "execute_result",
          "data": {
            "text/html": [
              "<div>\n",
              "<style scoped>\n",
              "    .dataframe tbody tr th:only-of-type {\n",
              "        vertical-align: middle;\n",
              "    }\n",
              "\n",
              "    .dataframe tbody tr th {\n",
              "        vertical-align: top;\n",
              "    }\n",
              "\n",
              "    .dataframe thead th {\n",
              "        text-align: right;\n",
              "    }\n",
              "</style>\n",
              "<table border=\"1\" class=\"dataframe\">\n",
              "  <thead>\n",
              "    <tr style=\"text-align: right;\">\n",
              "      <th></th>\n",
              "      <th>uniq_id</th>\n",
              "      <th>crawl_timestamp</th>\n",
              "      <th>product_url</th>\n",
              "      <th>product_name</th>\n",
              "      <th>product_category_tree</th>\n",
              "      <th>pid</th>\n",
              "      <th>retail_price</th>\n",
              "      <th>discounted_price</th>\n",
              "      <th>image</th>\n",
              "      <th>is_FK_Advantage_product</th>\n",
              "      <th>description</th>\n",
              "      <th>product_rating</th>\n",
              "      <th>overall_rating</th>\n",
              "      <th>brand</th>\n",
              "      <th>product_specifications</th>\n",
              "    </tr>\n",
              "  </thead>\n",
              "  <tbody>\n",
              "    <tr>\n",
              "      <th>0</th>\n",
              "      <td>c2d766ca982eca8304150849735ffef9</td>\n",
              "      <td>2016-03-25 22:59:23 +0000</td>\n",
              "      <td>http://www.flipkart.com/alisha-solid-women-s-c...</td>\n",
              "      <td>Alisha Solid Women's Cycling Shorts</td>\n",
              "      <td>[\"Clothing &gt;&gt; Women's Clothing &gt;&gt; Lingerie, Sl...</td>\n",
              "      <td>SRTEH2FF9KEDEFGF</td>\n",
              "      <td>999.0</td>\n",
              "      <td>379.0</td>\n",
              "      <td>[\"http://img5a.flixcart.com/image/short/u/4/a/...</td>\n",
              "      <td>False</td>\n",
              "      <td>Key Features of Alisha Solid Women's Cycling S...</td>\n",
              "      <td>No rating available</td>\n",
              "      <td>No rating available</td>\n",
              "      <td>Alisha</td>\n",
              "      <td>{\"product_specification\"=&gt;[{\"key\"=&gt;\"Number of ...</td>\n",
              "    </tr>\n",
              "    <tr>\n",
              "      <th>1</th>\n",
              "      <td>7f7036a6d550aaa89d34c77bd39a5e48</td>\n",
              "      <td>2016-03-25 22:59:23 +0000</td>\n",
              "      <td>http://www.flipkart.com/fabhomedecor-fabric-do...</td>\n",
              "      <td>FabHomeDecor Fabric Double Sofa Bed</td>\n",
              "      <td>[\"Furniture &gt;&gt; Living Room Furniture &gt;&gt; Sofa B...</td>\n",
              "      <td>SBEEH3QGU7MFYJFY</td>\n",
              "      <td>32157.0</td>\n",
              "      <td>22646.0</td>\n",
              "      <td>[\"http://img6a.flixcart.com/image/sofa-bed/j/f...</td>\n",
              "      <td>False</td>\n",
              "      <td>FabHomeDecor Fabric Double Sofa Bed (Finish Co...</td>\n",
              "      <td>No rating available</td>\n",
              "      <td>No rating available</td>\n",
              "      <td>FabHomeDecor</td>\n",
              "      <td>{\"product_specification\"=&gt;[{\"key\"=&gt;\"Installati...</td>\n",
              "    </tr>\n",
              "    <tr>\n",
              "      <th>2</th>\n",
              "      <td>f449ec65dcbc041b6ae5e6a32717d01b</td>\n",
              "      <td>2016-03-25 22:59:23 +0000</td>\n",
              "      <td>http://www.flipkart.com/aw-bellies/p/itmeh4grg...</td>\n",
              "      <td>AW Bellies</td>\n",
              "      <td>[\"Footwear &gt;&gt; Women's Footwear &gt;&gt; Ballerinas &gt;...</td>\n",
              "      <td>SHOEH4GRSUBJGZXE</td>\n",
              "      <td>999.0</td>\n",
              "      <td>499.0</td>\n",
              "      <td>[\"http://img5a.flixcart.com/image/shoe/7/z/z/r...</td>\n",
              "      <td>False</td>\n",
              "      <td>Key Features of AW Bellies Sandals Wedges Heel...</td>\n",
              "      <td>No rating available</td>\n",
              "      <td>No rating available</td>\n",
              "      <td>AW</td>\n",
              "      <td>{\"product_specification\"=&gt;[{\"key\"=&gt;\"Ideal For\"...</td>\n",
              "    </tr>\n",
              "    <tr>\n",
              "      <th>3</th>\n",
              "      <td>0973b37acd0c664e3de26e97e5571454</td>\n",
              "      <td>2016-03-25 22:59:23 +0000</td>\n",
              "      <td>http://www.flipkart.com/alisha-solid-women-s-c...</td>\n",
              "      <td>Alisha Solid Women's Cycling Shorts</td>\n",
              "      <td>[\"Clothing &gt;&gt; Women's Clothing &gt;&gt; Lingerie, Sl...</td>\n",
              "      <td>SRTEH2F6HUZMQ6SJ</td>\n",
              "      <td>699.0</td>\n",
              "      <td>267.0</td>\n",
              "      <td>[\"http://img5a.flixcart.com/image/short/6/2/h/...</td>\n",
              "      <td>False</td>\n",
              "      <td>Key Features of Alisha Solid Women's Cycling S...</td>\n",
              "      <td>No rating available</td>\n",
              "      <td>No rating available</td>\n",
              "      <td>Alisha</td>\n",
              "      <td>{\"product_specification\"=&gt;[{\"key\"=&gt;\"Number of ...</td>\n",
              "    </tr>\n",
              "    <tr>\n",
              "      <th>4</th>\n",
              "      <td>bc940ea42ee6bef5ac7cea3fb5cfbee7</td>\n",
              "      <td>2016-03-25 22:59:23 +0000</td>\n",
              "      <td>http://www.flipkart.com/sicons-all-purpose-arn...</td>\n",
              "      <td>Sicons All Purpose Arnica Dog Shampoo</td>\n",
              "      <td>[\"Pet Supplies &gt;&gt; Grooming &gt;&gt; Skin &amp; Coat Care...</td>\n",
              "      <td>PSOEH3ZYDMSYARJ5</td>\n",
              "      <td>220.0</td>\n",
              "      <td>210.0</td>\n",
              "      <td>[\"http://img5a.flixcart.com/image/pet-shampoo/...</td>\n",
              "      <td>False</td>\n",
              "      <td>Specifications of Sicons All Purpose Arnica Do...</td>\n",
              "      <td>No rating available</td>\n",
              "      <td>No rating available</td>\n",
              "      <td>Sicons</td>\n",
              "      <td>{\"product_specification\"=&gt;[{\"key\"=&gt;\"Pet Type\",...</td>\n",
              "    </tr>\n",
              "  </tbody>\n",
              "</table>\n",
              "</div>"
            ],
            "text/plain": [
              "                            uniq_id  ...                             product_specifications\n",
              "0  c2d766ca982eca8304150849735ffef9  ...  {\"product_specification\"=>[{\"key\"=>\"Number of ...\n",
              "1  7f7036a6d550aaa89d34c77bd39a5e48  ...  {\"product_specification\"=>[{\"key\"=>\"Installati...\n",
              "2  f449ec65dcbc041b6ae5e6a32717d01b  ...  {\"product_specification\"=>[{\"key\"=>\"Ideal For\"...\n",
              "3  0973b37acd0c664e3de26e97e5571454  ...  {\"product_specification\"=>[{\"key\"=>\"Number of ...\n",
              "4  bc940ea42ee6bef5ac7cea3fb5cfbee7  ...  {\"product_specification\"=>[{\"key\"=>\"Pet Type\",...\n",
              "\n",
              "[5 rows x 15 columns]"
            ]
          },
          "metadata": {
            "tags": []
          },
          "execution_count": 130
        }
      ]
    },
    {
      "cell_type": "markdown",
      "metadata": {
        "id": "jz0rTgzzgmLY"
      },
      "source": [
        "## Exploring the dataset with some visualizations"
      ]
    },
    {
      "cell_type": "markdown",
      "metadata": {
        "id": "Nr4kl0i7cnSD"
      },
      "source": [
        "Below code block shows the general information of the dataset "
      ]
    },
    {
      "cell_type": "code",
      "metadata": {
        "colab": {
          "base_uri": "https://localhost:8080/"
        },
        "id": "js_lHAkHAO-D",
        "outputId": "3aad14e2-0f99-4ecf-bea0-41ee250a7bcc"
      },
      "source": [
        "#Viewing the general data information\n",
        "data.info()"
      ],
      "execution_count": 131,
      "outputs": [
        {
          "output_type": "stream",
          "text": [
            "<class 'pandas.core.frame.DataFrame'>\n",
            "RangeIndex: 20000 entries, 0 to 19999\n",
            "Data columns (total 15 columns):\n",
            " #   Column                   Non-Null Count  Dtype  \n",
            "---  ------                   --------------  -----  \n",
            " 0   uniq_id                  20000 non-null  object \n",
            " 1   crawl_timestamp          20000 non-null  object \n",
            " 2   product_url              20000 non-null  object \n",
            " 3   product_name             20000 non-null  object \n",
            " 4   product_category_tree    20000 non-null  object \n",
            " 5   pid                      20000 non-null  object \n",
            " 6   retail_price             19922 non-null  float64\n",
            " 7   discounted_price         19922 non-null  float64\n",
            " 8   image                    19997 non-null  object \n",
            " 9   is_FK_Advantage_product  20000 non-null  bool   \n",
            " 10  description              19998 non-null  object \n",
            " 11  product_rating           20000 non-null  object \n",
            " 12  overall_rating           20000 non-null  object \n",
            " 13  brand                    14136 non-null  object \n",
            " 14  product_specifications   19986 non-null  object \n",
            "dtypes: bool(1), float64(2), object(12)\n",
            "memory usage: 2.2+ MB\n"
          ],
          "name": "stdout"
        }
      ]
    },
    {
      "cell_type": "markdown",
      "metadata": {
        "id": "pfKHgNdTcyq3"
      },
      "source": [
        "Some Visualizations of the null values in every column using seaborn heatmap"
      ]
    },
    {
      "cell_type": "code",
      "metadata": {
        "colab": {
          "base_uri": "https://localhost:8080/",
          "height": 405
        },
        "id": "j8PJY98hW4L6",
        "outputId": "f1b614d0-2092-4447-b5d2-0fd5895360b8"
      },
      "source": [
        "import seaborn as sns\n",
        "#viewing null values in dataset\n",
        "sns.heatmap(data.isnull() , yticklabels = False , cmap = \"plasma\")\n"
      ],
      "execution_count": 132,
      "outputs": [
        {
          "output_type": "execute_result",
          "data": {
            "text/plain": [
              "<matplotlib.axes._subplots.AxesSubplot at 0x7fd3d1ab6650>"
            ]
          },
          "metadata": {
            "tags": []
          },
          "execution_count": 132
        },
        {
          "output_type": "display_data",
          "data": {
            "image/png": "[encoded data removed]",
            "text/plain": [
              "<Figure size 432x288 with 2 Axes>"
            ]
          },
          "metadata": {
            "tags": [],
            "needs_background": "light"
          }
        }
      ]
    },
    {
      "cell_type": "markdown",
      "metadata": {
        "id": "iBT-1-1TdSFP"
      },
      "source": [
        "Removing all the columns and retaining only the product_category_tree and description "
      ]
    },
    {
      "cell_type": "code",
      "metadata": {
        "id": "zLZAvYtQCHtw"
      },
      "source": [
        "#Dropping unwanted features from the dataset which wont help in predciting the category of the product \n",
        "data = data.drop([\"uniq_id\" , \"crawl_timestamp\" , \"product_url\" ,\"pid\" , \"retail_price\" , \"discounted_price\" , \"image\" ,\"product_specifications\", \"is_FK_Advantage_product\" , \"product_rating\" , \"overall_rating\" , \"brand\" , \"product_name\"] , axis=1)"
      ],
      "execution_count": 133,
      "outputs": []
    },
    {
      "cell_type": "code",
      "metadata": {
        "colab": {
          "base_uri": "https://localhost:8080/"
        },
        "id": "PDL2Mt2HGWMG",
        "outputId": "df793ad7-ad22-48b1-c9fe-ce1d29172040"
      },
      "source": [
        "#Veiwing data information again \n",
        "data.info()"
      ],
      "execution_count": 134,
      "outputs": [
        {
          "output_type": "stream",
          "text": [
            "<class 'pandas.core.frame.DataFrame'>\n",
            "RangeIndex: 20000 entries, 0 to 19999\n",
            "Data columns (total 2 columns):\n",
            " #   Column                 Non-Null Count  Dtype \n",
            "---  ------                 --------------  ----- \n",
            " 0   product_category_tree  20000 non-null  object\n",
            " 1   description            19998 non-null  object\n",
            "dtypes: object(2)\n",
            "memory usage: 312.6+ KB\n"
          ],
          "name": "stdout"
        }
      ]
    },
    {
      "cell_type": "markdown",
      "metadata": {
        "id": "ilpgve3Odxil"
      },
      "source": [
        "As we can see above that description contains rows that are NA , so we drop those rows where description is NA"
      ]
    },
    {
      "cell_type": "code",
      "metadata": {
        "id": "De_DpwlAGl_s"
      },
      "source": [
        "#Dropping the rows where description is NA \n",
        "data = data[data[\"description\"].notna()]\n"
      ],
      "execution_count": 135,
      "outputs": []
    },
    {
      "cell_type": "code",
      "metadata": {
        "colab": {
          "base_uri": "https://localhost:8080/"
        },
        "id": "G6mq26YaHA9r",
        "outputId": "05b6a772-269c-476a-d6ee-b6ec9dd4f6ea"
      },
      "source": [
        "#Viewing the data information again\n",
        "data.info()"
      ],
      "execution_count": 136,
      "outputs": [
        {
          "output_type": "stream",
          "text": [
            "<class 'pandas.core.frame.DataFrame'>\n",
            "Int64Index: 19998 entries, 0 to 19999\n",
            "Data columns (total 2 columns):\n",
            " #   Column                 Non-Null Count  Dtype \n",
            "---  ------                 --------------  ----- \n",
            " 0   product_category_tree  19998 non-null  object\n",
            " 1   description            19998 non-null  object\n",
            "dtypes: object(2)\n",
            "memory usage: 468.7+ KB\n"
          ],
          "name": "stdout"
        }
      ]
    },
    {
      "cell_type": "markdown",
      "metadata": {
        "id": "RFbEssood2tQ"
      },
      "source": [
        "Creating the main category column which is first word of the category tree column and our model will predict this category "
      ]
    },
    {
      "cell_type": "code",
      "metadata": {
        "colab": {
          "base_uri": "https://localhost:8080/"
        },
        "id": "qWHRZTHNHTDl",
        "outputId": "75cddbfd-8b4b-437a-a0af-f991ffe10b11"
      },
      "source": [
        "#Creating a main_category column which will be the category predicted by the model \n",
        "data['main_category']=data['product_category_tree'].apply(lambda x :x.split('>>')[0][2:len(x.split('>>')[0])-1])\n",
        "#viewing the data in classes , we can see classes are imbalanaced\n",
        "data['main_category'].value_counts()[:200].sort_values(ascending=False)"
      ],
      "execution_count": 137,
      "outputs": [
        {
          "output_type": "execute_result",
          "data": {
            "text/plain": [
              "Clothing                                                6197\n",
              "Jewellery                                               3531\n",
              "Footwear                                                1227\n",
              "Mobiles & Accessories                                   1099\n",
              "Automotive                                              1012\n",
              "                                                        ... \n",
              "Kraft Seeds Thyme Herbs Seed (200 per packet)\"             1\n",
              "Skayvon SUMMERSIBLE SINGLE PHASE PUMP CONTROLLER...\"       1\n",
              "Carbanao Chrome Grill Chevrolet Cruze Car Grill ...\"       1\n",
              "Speedwav 186879 Bajaj Pulsar 200 NS DTS-i LED In...\"       1\n",
              "Himmlisch 20503 Car Bottle Holder (Plastic)\"               1\n",
              "Name: main_category, Length: 200, dtype: int64"
            ]
          },
          "metadata": {
            "tags": []
          },
          "execution_count": 137
        }
      ]
    },
    {
      "cell_type": "markdown",
      "metadata": {
        "id": "qSjE_WJdfE7H"
      },
      "source": [
        "Getting all the unique categories in the main_category column"
      ]
    },
    {
      "cell_type": "code",
      "metadata": {
        "colab": {
          "base_uri": "https://localhost:8080/"
        },
        "id": "0kz8dCbnZC2M",
        "outputId": "838af9c8-f441-4f51-b45e-8d5d55a95503"
      },
      "source": [
        "possible_labels = data.main_category.unique()\n",
        "#getting all possible prodcut labels\n",
        "print(possible_labels)"
      ],
      "execution_count": 138,
      "outputs": [
        {
          "output_type": "stream",
          "text": [
            "['Clothing' 'Furniture' 'Footwear' 'Pet Supplies'\n",
            " 'Eternal Gandhi Super Series Crystal Paper Weight...\"'\n",
            " 'Pens & Stationery' 'Sports & Fitness' 'Beauty and Personal Care'\n",
            " 'Bengal Blooms Rose Artificial Plant  with Pot (3...\"'\n",
            " 'Bags, Wallets & Belts' 'Home Decor & Festive Needs' 'Automotive'\n",
            " 'Tools & Hardware' 'Vishudh Printed Women\\'s Straight Kurta\"'\n",
            " 'Vishudh Printed Women\\'s Anarkali Kurta\"'\n",
            " 'BuildTrack PIR Wireless Motion Sensor - One Swit...\"'\n",
            " 'Skayvon SUMMERSIBLE SINGLE PHASE PUMP CONTROLLER...\"'\n",
            " 'MASARA Solid Women\\'s Straight Kurta\"'\n",
            " 'Skayvon SUBMERSIBBLE THREE PHASE PUMP CONTROLLER...\"'\n",
            " 'Behringer Xenyx 502 Analog Sound Mixer\"'\n",
            " 'Noor Embroidered Women\\'s Straight Kurta\"'\n",
            " 'Libas Printed Women\\'s A-line Kurta\"'\n",
            " 'Libas Printed Women\\'s Anarkali Kurta\"' 'Home Furnishing' 'Baby Care'\n",
            " 'Mobiles & Accessories' 'Food & Nutrition' 'Watches'\n",
            " 'Toys & School Supplies' 'Jewellery'\n",
            " 'Cellbazaar Blackberry 8520 WHITE LCD LCD (YIT-562)\"'\n",
            " 'Dressberry Gold Synthetic  Clutch\"'\n",
            " 'Mast & Harbour Black Synthetic  Clutch\"'\n",
            " 'Sisel Printed Poly Cotton Women\\'s Stole\"'\n",
            " 'Knight Ace Kraasa Sports Running Shoes, Cycling ...\"'\n",
            " 'Indistar Self Design Viscose Women\\'s Stole\"' 'Glacier Running Shoes\"'\n",
            " 'Dressberry Black Synthetic  Clutch\"'\n",
            " 'Asics Gel-Cumulus 17 Running Shoes\"'\n",
            " 'Mast & Harbour Gold Synthetic  Clutch\"'\n",
            " 'Asics Gel-Kayano 22 Running Shoes\"'\n",
            " 'Dressberry Orange Synthetic  Clutch\"'\n",
            " 'Dressberry Green Synthetic  Clutch\"' 'Escan Lace Up\"'\n",
            " 'Nine Maternity Wear Women\\'s Fit and Flare Dress\"' 'Sunglasses\"'\n",
            " 'Kitchen & Dining' 'Home & Kitchen' 'Computers' 'Cameras & Accessories'\n",
            " 'ANAND ARCHIES Girls Flats\"' 'ANAND ARCHIES Girls Wedges\"'\n",
            " 'Prime Printed 8 Seater Table Cover (Multicolor, ...\"'\n",
            " 'Health & Personal Care Appliances'\n",
            " 'Speedwav 240437 Sun Shade For Hyundai i10 (Dashb...\"'\n",
            " 'Vitamins Solid Baby Girl\\'s Basic Shorts\"' 'Gaming' 'Home Improvement'\n",
            " 'Sumo Baby Walker (Red)\"'\n",
            " 'Kombee Girl\\'s Printed Red, Pink Top & Capri Set\"'\n",
            " 'NEWGEN TECH EO-HS3303 218 Wired Headset (White)\"'\n",
            " 'Automation & Robotics'\n",
            " 'K&P Dr.Ambedkar Large 04 Showpiece  -  19 cm (Po...\"'\n",
            " 'K&P Lord Ganesha Large 03 Showpiece  -  19 cm (P...\"'\n",
            " 'Adidas IND PRO THI GUA Thigh Guard (White, Blue,...\"'\n",
            " 'Bootwale Bellies\"'\n",
            " 'clickforsign Avoid Contanimation Wash your Hands...\"' 'Treppe Bellies\"'\n",
            " 'Kanvas Bellies\"' 'Klaur Melbourne Bellies\"'\n",
            " 'Clickforsign Vehicles parked Illegally will be t...\"'\n",
            " 'clickforsign Sound horn Before entering Emergenc...\"'\n",
            " 'kem Flow Gold skinny Fit Baby Girl\\'s Blue Jeans\"'\n",
            " 'Carbanao Chrome Grill Chevrolet Cruze Car Grill ...\"'\n",
            " 'Oddy RS 1.5 X 2 100 Sheets Self Stick Reposition...\"'\n",
            " 'Synergy SFJB0105 Grocery Bag (Blue)\"'\n",
            " 'SHOPOJ White Paper Sky Lantern (80 cm X 34 cm, P...\"'\n",
            " 'SUPERMOD Men\\'s Brief\"' 'Sunglasses' 'Lilliput Top Baby Girl\\'s  Combo\"'\n",
            " 'Frabjous German silver Rings For Women Alloy Zir...\"'\n",
            " 'Zevrr Sterling Silver Swarovski Zirconia Platinu...\"'\n",
            " 'Rasav Jewels Yellow Gold Diamond 18 K Ring\"'\n",
            " 'Royal Seal Creations 40 ST COLOR Silver Zircon N...\"'\n",
            " 'Home Entertainment' 'ANASAZI Casual 3/4 Sleeve Solid Women\\'s Top\"'\n",
            " 'INVENTURE RETAIL Nail Cutter\"' 'Fabpoppy Printed Women\\'s Jumpsuit\"'\n",
            " 'Power Smart Quick Charging Pack For PAN CGR-DU-2...\"'\n",
            " 'Gking Hand Stiched Steering Cover For Maruti Ert...\"'\n",
            " 'GM Power mate 4 Strip Surge Protector (White)\"'\n",
            " 'Shrih SH-0192 Wired USB Flexible Keyboard (Red)\"'\n",
            " 'Threads & Pals Full Sleeve Printed, Solid Men\\'s ...\"'\n",
            " 'Threads & Pals Full Sleeve Self Design Men\\'s Swe...\"'\n",
            " 'Gking Hand Stiched Steering Cover For Renault Sc...\"'\n",
            " 'Power Smart Quick Charging Pack For PAN CGR-D28 ...\"'\n",
            " 'xy decor Cotton Sofa Cover (white Pack of 6)\"'\n",
            " 'Favourite BikerZ 3514 RAD air filter Ionic Air F...\"'\n",
            " 'Disney Printed Baby Boy\\'s Hooded Grey T-Shirt\"'\n",
            " 'Little Stars Girl\\'s A-line Multicolor Dress\"' 'Wearable Smart Devices'\n",
            " 'The Crazy Me 1 Compartments Eco-Friendly leather...\"'\n",
            " 'fourgee Slim Fit Boy\\'s Black Jeans\"'\n",
            " 'Laser X Checkered Men\\'s Boxer (Pack of 4)\"'\n",
            " 'INKT INKT A5 Wiro Notebook A5 Notebook Ring Boun...\"'\n",
            " 'E\\'Hiose Girl\\'s Leggings (Pack of 6)\"'\n",
            " 'Lucky Thailand GL/ LG30 Glass (300 ml, Clear, Pa...\"'\n",
            " 'Ocean GP/Pyramid Glass (300 ml, Clear, Pack of 12)\"'\n",
            " 'Wella Elements Leight Weight Renewing Conditione...\"'\n",
            " 'Pu-Good Women Flats\"' 'Olvin Aviator Sunglasses\"'\n",
            " 'TSG Breeze Printed Women\\'s Round Neck Multicolor...\"'\n",
            " 'Pout Brass Bangle\"' 'classyworld Brass Cufflink (Silver-01)\"'\n",
            " 'HANS Men\\'s Crew Length Socks\"'\n",
            " 'TIMBERLAKE Slim Fit Fit Women\\'s Brown Jeans\"' 'Olvin Oval Sunglasses\"'\n",
            " 'Urban Girl Foundation Brush (Pack of 12)\"' 'FEET FLOW Women Flats\"'\n",
            " 'Jazz Eyewears Over-sized Sunglasses\"'\n",
            " 'Miss Wow Slim Fit Women\\'s Blue Jeans\"'\n",
            " 'Dilan Jewels Alloy Zircon 18K Yellow Gold Bangle...\"'\n",
            " 'SMART TRADERS Women Wedges\"' 'Clovia Women\\'s Full Coverage Bra\"'\n",
            " 'Olvin Wayfarer Sunglasses\"'\n",
            " 'PrivateLifes MasterPiece Women\\'s Push-up Bra\"'\n",
            " 'COIRFIT Single Coir Mattress\"' 'Clovia Women\\'s T-Shirt Bra\"'\n",
            " 'Spa Culture Fit Fit Women\\'s Black Jeans\"'\n",
            " 'run of luck Solid Women\\'s Round Neck Dark Blue T...\"'\n",
            " 'SAY UV Sterilizer Solid Filter Cartridge (0, Pac...\"'\n",
            " 'Urban Girl Foundation Brush (Pack of 7)\"'\n",
            " 'Legmark Slim Fit Women\\'s Light Blue Jeans\"'\n",
            " 'Siyas Collection Lac Cubic Zirconia Bangle Set (...\"'\n",
            " 'Dassler Slim Fit Women\\'s Multicolor Jeans\"'\n",
            " 'piftif Women\\'s Sports Bra\"' 'REMSON INDIA Women Flats\"'\n",
            " 'killys Men\\'s Solid No Show Socks\"' 'INDILEGO Women Flats\"'\n",
            " 'Firangi Cotton, Polyester Free Floor Mat Firangi...\"'\n",
            " 'TIMBERLAKE Slim Fit Fit Women\\'s Red Jeans\"'\n",
            " 'Starsy Solid Women\\'s Round Neck Green T-Shirt\"'\n",
            " 'Oly Two Fit Fit Women\\'s Black Jeans\"' 'Olvin Rectangular Sunglasses\"'\n",
            " 'soie Fashion Women\\'s Sports Bra\"'\n",
            " 'Auraa Men\\'s, Women\\'s Solid No Show Socks\"'\n",
            " 'e-Fresh Boy\\'s Brief (Pack of 5)\"'\n",
            " 'TIMBERLAKE Slim Fit Fit Women\\'s Blue Jeans\"'\n",
            " 'NEWGEN TECH EO-HS3303 179 Wired Headset (White)\"'\n",
            " 'Attitude Printed Women\\'s Round Neck Black T-Shirt\"'\n",
            " 'Kalpaveda Copper Bowl (Gold, Pack of 1)\"' 'Walkline Slippers\"'\n",
            " 'D&D Women Flats\"' 'e-Fresh Baby Boy\\'s Brief (Pack of 10)\"'\n",
            " 'NEWGEN TECH EO-HS3303 58 Wired Headset (White)\"'\n",
            " 'Ajaero Slim Fit Women\\'s Dark Blue Jeans\"'\n",
            " 'Ruhi\\'s Creations Cotton Floral King sized Double...\"'\n",
            " 'SAY Thread Wounded Candle 10\\\\\" Set of 4 pcs Solid...\"'\n",
            " 'The Cotton Company Solid Women\\'s Polo Neck Pink ...\"'\n",
            " 'Samprada Modern art Tapestry (Black, Pink)\"'\n",
            " 'Naaz Dart game Board Game\"' 'Oly Two Fit Fit Women\\'s Dark Blue Jeans\"'\n",
            " 'Camey Men\\'s Quarter Length Socks\"'\n",
            " 'fourgee Slim Fit Women\\'s Blue Jeans\"'\n",
            " 'classyworld Brass Cufflink (Grey-02)\"'\n",
            " 'Viral Girl Women\\'s Full Coverage Bra\"'\n",
            " 'Wellon Fittings set (16 pieces) for RO Water Pur...\"'\n",
            " 'Urban Girl Foundation Brush (Pack of 10)\"'\n",
            " 'Amita Home Furnishing Cotton Printed Single Beds...\"'\n",
            " 'Impala Alloy Cufflink (White)\"'\n",
            " 'Ruhi\\'s Creations Polyester Silk Blend Cartoon Ki...\"'\n",
            " 'Naaz 2 in 1 Paper Quilling Board Game\"'\n",
            " 'Starsy Printed Women\\'s Round Neck Black T-Shirt\"'\n",
            " 'Fly U Slim Fit Fit Women\\'s Brown Jeans\"'\n",
            " 'Crafty Hands Kutchchi Mirrorwork Tapestry (Maroon)\"'\n",
            " 'tadd Men\\'s, Women\\'s Ankle Length Socks\"'\n",
            " 'Dolz Slim Fit Fit Women\\'s Brown Jeans\"'\n",
            " 'Shrih Toe & Foot Protector Pain Relief Pad (Pack...\"'\n",
            " 'LondonHouze Printed Women\\'s Round Neck Grey T-Shirt\"'\n",
            " 'Legmark Slim Fit Women\\'s Blue Jeans\"'\n",
            " 'Linzina Fashions LIN-HOSS-1.5 Faucet Set\"'\n",
            " 'soie Fashion Women\\'s Full Coverage Bra\"' 'Clovia Women\\'s Plunge Bra\"'\n",
            " 'Foot Candy Women Flats\"'\n",
            " 'Amita Home Furnishing Cotton Floral Single Bedsh...\"'\n",
            " '883 Police Full Sleeve Solid Men\\'s Jacket\"' 'Style World Women Flats\"'\n",
            " 'Just Wow Women Flats\"' 'SMART TRADERS Women Flats\"'\n",
            " 'Ruhi\\'s Creations Cotton Cartoon King sized Doubl...\"'\n",
            " 'SJ Bushnell 122/1000M Binoculars (36 mm, Black)\"'\n",
            " 'SJ Barstel 56m / 1000m Binoculars (30 mm, Black)\"'\n",
            " 'SJ Comet Zoom DPSI Binoculars (30 mm, Black)\"'\n",
            " 'Pia International 10X70X70 WITH ZOOM SAKURA Bino...\"'\n",
            " 'SHOPOJ Purple Paper Sky Lantern (80 cm X 34 cm, ...\"'\n",
            " 'Car vastra 1pcs Car Vastra Honda Beige Backrest ...\"'\n",
            " 'SHOPOJ Yellow Paper Sky Lantern (80 cm X 34 cm, ...\"'\n",
            " 'SHOPOJ Multicolor Paper Sky Lantern (80 cm X 34 ...\"'\n",
            " 'Sj Bushnell 119M / 1000 Binoculars (36 mm, Black)\"'\n",
            " 'FIFO Bottom Women\\'s  Combo\"'\n",
            " 'Himmlisch 20503 Car Bottle Holder (Plastic)\"'\n",
            " 'V&G Professional HD-37 Hair Dryer (Red)\"'\n",
            " 'Anuradha Art Stylish Hair Clip (Blue)\"'\n",
            " 'Shonaya Printed Bhagalpuri Art Silk Sari\"'\n",
            " 'Anuradha Art Stylish Hair Clip (Black)\"'\n",
            " 'JUSF2 Black Color Hair Band (Multicolor)\"' 'Sonaxo Men Running Shoes\"'\n",
            " 'Koie  Battery - For Samsung 7562 Premium Quality...\"'\n",
            " 'OEM 170774 Bike Side Stand\"' 'Kittens Boys Flats\"'\n",
            " 'AutoKraftZ Optimum Locking Device For Bajaj Puls...\"'\n",
            " 'GALLOWAY skinny Fit Women\\'s Jeans\"'\n",
            " 'Dremel 2615.023.132 Plastic Friction Work Bench ...\"' 'Eyewear'\n",
            " 'ABEEZ Boys, Men, Girls (Black, Pack of 1)\"'\n",
            " 'Joyra Heart Sterling Silver Swarovski Crystal, S...\"'\n",
            " 'BLM Casual Printed Women\\'s Kurti\"'\n",
            " 'SMART DENIM Solid Women\\'s White Denim Shorts\"'\n",
            " 'ATV Pouch for Acer Liquid Z330 (STEEL BLUE)\"'\n",
            " 'Be 13 Printed Boy\\'s Round Neck T-Shirt (Pack of 2)\"'\n",
            " 'Taurus Black & white Lace Up\"'\n",
            " 'Abhinl Fashion Cotton Printed Semi-stitched Salw...\"'\n",
            " 'UFO Self Design Round Neck Casual Girl\\'s Sweater\"'\n",
            " 'LGRL Women\\'s Leggings\"' 'Breakbounce Men\\'s Vest\"'\n",
            " 'UFO Full Sleeve Solid Girl\\'s Jacket\"'\n",
            " 'BALAJI EXPORTS Bottled Wine Cooler (9 Bottles)\"'\n",
            " 'Siemens 5SL Betagard 5SL MCB (1)\"'\n",
            " 'Remax Rm-10000 Remax Vanguard 10000mah 10000 mAh...\"'\n",
            " 'Boreal Roller Brush\"' 'Srajanaa sr114 Travel Shaving Kit (Black)\"'\n",
            " 'Selfcare Women\\'s Thong Panty (Pack of 3)\"'\n",
            " 'Sugandh Vatika 24 Natural Masala, Sandal Incense...\"'\n",
            " 'Arial Morris Women Flats\"' 'eBooks' 'Zikrak Exim Women Wedges\"'\n",
            " 'Zixtro Bug (Black, Backpack)\"'\n",
            " 'New Darling Women\\'s Printed Top & Pyjama Set\"'\n",
            " 'RajeshFashion Women\\'s Leggings\"'\n",
            " 'United Colors of Benetton Girl\\'s Trousers\"'\n",
            " 'SRPC BAOER STARWALKER EXECUTIVE ROLLERBALL Pen G...\"'\n",
            " 'Kraft Seeds Rosemary Herb (Pack Of 5) Seed (75 p...\"'\n",
            " 'Autoplus M AP15 Arm Sleeve (Black)\"'\n",
            " 'Autoplus M AP18 Arm Sleeve (Black)\"'\n",
            " 'Kraft Seeds Thyme Herbs Seed (200 per packet)\"'\n",
            " 'Kraft Seeds Dill Herb Seed (50 per packet)\"'\n",
            " 'Leading lady Women\\'s Camisole\"' 'Yo Baby Girl\\'s Trousers\"'\n",
            " 'THERISE MD0005 Wired Headset (Pink)\"'\n",
            " 'Nut Khut Embroidered Kurta & Churidar\"'\n",
            " 'Vinenzia Printed Winter Men\\'s Gloves\"'\n",
            " 'Planet Waves Woodstock Strap (Multicolor)\"'\n",
            " 'Speedwav 216456 Manual Rear View Mirror (Right, ...\"'\n",
            " 'Speedwav 216510 Manual Rear View Mirror (Right, ...\"'\n",
            " 'Speedwav 216552 Manual Rear View Mirror (Right, ...\"'\n",
            " 'Speedwav 186136 Manual Rear View Mirror (Right, ...\"'\n",
            " 'Small Toes Bellies\"'\n",
            " 'EASIES Solid Single Breasted Casual Men\\'s Blazer\"'\n",
            " 'Clovia Lingerie Set\"'\n",
            " 'Speedwav 186926 Royal Enfield 350 Twin Spark LED...\"'\n",
            " 'Speedwav 186879 Bajaj Pulsar 200 NS DTS-i LED In...\"'\n",
            " 'Household Supplies' 'Pazel Slim Fit Men\\'s Jeans\"'\n",
            " 'SMART TRADERS Girls Bellies\"'\n",
            " 'Corcepts Universal Tablet HD Ultra Clear Transpa...\"'\n",
            " 'Areon Luxurious Fragrance Long Lasting Car,Home,...\"']\n"
          ],
          "name": "stdout"
        }
      ]
    },
    {
      "cell_type": "markdown",
      "metadata": {
        "id": "6BvT3aEohs7m"
      },
      "source": [
        "Removing the categories where the occurrence of the category is less than 9 (Which is selected after some experiments)"
      ]
    },
    {
      "cell_type": "code",
      "metadata": {
        "id": "bBTOkESPbag3"
      },
      "source": [
        "#removing product categories where occurence is less than 1 \n",
        "data = data[data[\"main_category\"].map(data['main_category'].value_counts()) > 9]"
      ],
      "execution_count": 139,
      "outputs": []
    },
    {
      "cell_type": "markdown",
      "metadata": {
        "id": "Xqo37NYTfKFi"
      },
      "source": [
        "Visualizing the category count using bar graphs"
      ]
    },
    {
      "cell_type": "code",
      "metadata": {
        "colab": {
          "base_uri": "https://localhost:8080/",
          "height": 502
        },
        "id": "u6cg4FJchB0M",
        "outputId": "53475e10-3595-4341-f9dc-8b8f28adb6dc"
      },
      "source": [
        "cnt_pro = data[\"main_category\"].value_counts()\n",
        "plt.figure(figsize=(12,4))\n",
        "sns.barplot(cnt_pro.index, cnt_pro.values, alpha=0.8)\n",
        "plt.ylabel('Categories', fontsize=12)\n",
        "plt.xlabel('No of Product', fontsize=12)\n",
        "plt.xticks(rotation=90)\n",
        "plt.show();"
      ],
      "execution_count": 140,
      "outputs": [
        {
          "output_type": "stream",
          "text": [
            "/usr/local/lib/python3.7/dist-packages/seaborn/_decorators.py:43: FutureWarning: Pass the following variables as keyword args: x, y. From version 0.12, the only valid positional argument will be `data`, and passing other arguments without an explicit keyword will result in an error or misinterpretation.\n",
            "  FutureWarning\n"
          ],
          "name": "stderr"
        },
        {
          "output_type": "display_data",
          "data": {
            "image/png": "[encoded data removed]",
            "text/plain": [
              "<Figure size 864x288 with 1 Axes>"
            ]
          },
          "metadata": {
            "tags": [],
            "needs_background": "light"
          }
        }
      ]
    },
    {
      "cell_type": "markdown",
      "metadata": {
        "id": "uhoI8tXviR84"
      },
      "source": [
        "We can see from below that the data classes are imbalanced"
      ]
    },
    {
      "cell_type": "code",
      "metadata": {
        "colab": {
          "base_uri": "https://localhost:8080/"
        },
        "id": "ifLqOFsSpCUs",
        "outputId": "314cb302-c070-4441-d404-b99429456ba0"
      },
      "source": [
        "data[\"main_category\"].value_counts()"
      ],
      "execution_count": 141,
      "outputs": [
        {
          "output_type": "execute_result",
          "data": {
            "text/plain": [
              "Clothing                             6197\n",
              "Jewellery                            3531\n",
              "Footwear                             1227\n",
              "Mobiles & Accessories                1099\n",
              "Automotive                           1012\n",
              "Home Decor & Festive Needs            929\n",
              "Beauty and Personal Care              710\n",
              "Home Furnishing                       699\n",
              "Kitchen & Dining                      647\n",
              "Computers                             578\n",
              "Watches                               530\n",
              "Baby Care                             483\n",
              "Tools & Hardware                      391\n",
              "Toys & School Supplies                330\n",
              "Pens & Stationery                     313\n",
              "Bags, Wallets & Belts                 265\n",
              "Furniture                             180\n",
              "Sports & Fitness                      166\n",
              "Cameras & Accessories                  82\n",
              "Home Improvement                       81\n",
              "Health & Personal Care Appliances      43\n",
              "Gaming                                 35\n",
              "Sunglasses                             35\n",
              "Pet Supplies                           30\n",
              "Home & Kitchen                         24\n",
              "Home Entertainment                     19\n",
              "eBooks                                 15\n",
              "Eyewear                                10\n",
              "Name: main_category, dtype: int64"
            ]
          },
          "metadata": {
            "tags": []
          },
          "execution_count": 141
        }
      ]
    },
    {
      "cell_type": "markdown",
      "metadata": {
        "id": "ligTHjIJiKMq"
      },
      "source": [
        "Getting the possible labels which are possible for each description "
      ]
    },
    {
      "cell_type": "code",
      "metadata": {
        "colab": {
          "base_uri": "https://localhost:8080/"
        },
        "id": "tkp_lLPPossq",
        "outputId": "014f01eb-71eb-48b0-e6cb-6e371aca3b91"
      },
      "source": [
        "possible_labels = data.main_category.unique()\n",
        "#getting all possible prodcut labels\n",
        "print(possible_labels)"
      ],
      "execution_count": 142,
      "outputs": [
        {
          "output_type": "stream",
          "text": [
            "['Clothing' 'Furniture' 'Footwear' 'Pet Supplies' 'Pens & Stationery'\n",
            " 'Sports & Fitness' 'Beauty and Personal Care' 'Bags, Wallets & Belts'\n",
            " 'Home Decor & Festive Needs' 'Automotive' 'Tools & Hardware'\n",
            " 'Home Furnishing' 'Baby Care' 'Mobiles & Accessories' 'Watches'\n",
            " 'Toys & School Supplies' 'Jewellery' 'Kitchen & Dining' 'Home & Kitchen'\n",
            " 'Computers' 'Cameras & Accessories' 'Health & Personal Care Appliances'\n",
            " 'Gaming' 'Home Improvement' 'Sunglasses' 'Home Entertainment' 'Eyewear'\n",
            " 'eBooks']\n"
          ],
          "name": "stdout"
        }
      ]
    },
    {
      "cell_type": "code",
      "metadata": {
        "colab": {
          "base_uri": "https://localhost:8080/"
        },
        "id": "qDgsj0y_o4DR",
        "outputId": "c07b50a6-a06c-41fa-80e8-6f28fec18d2c"
      },
      "source": [
        "# Veiwing the information for the dataset again\n",
        "data.info()"
      ],
      "execution_count": 143,
      "outputs": [
        {
          "output_type": "stream",
          "text": [
            "<class 'pandas.core.frame.DataFrame'>\n",
            "Int64Index: 19661 entries, 0 to 19999\n",
            "Data columns (total 3 columns):\n",
            " #   Column                 Non-Null Count  Dtype \n",
            "---  ------                 --------------  ----- \n",
            " 0   product_category_tree  19661 non-null  object\n",
            " 1   description            19661 non-null  object\n",
            " 2   main_category          19661 non-null  object\n",
            "dtypes: object(3)\n",
            "memory usage: 614.4+ KB\n"
          ],
          "name": "stdout"
        }
      ]
    },
    {
      "cell_type": "markdown",
      "metadata": {
        "id": "JJtKDeSbiwXk"
      },
      "source": [
        "Encoding the labels of the text using a dictionary "
      ]
    },
    {
      "cell_type": "code",
      "metadata": {
        "colab": {
          "base_uri": "https://localhost:8080/"
        },
        "id": "5FhFUtsBpzCR",
        "outputId": "30ae375a-47c9-4dea-e8f4-ddcea3e9622c"
      },
      "source": [
        "#encoding the labels\n",
        "label_dict = {}\n",
        "for index , possible_label in enumerate(possible_labels):\n",
        "  label_dict[possible_label] =  index\n",
        "\n",
        "print(label_dict)"
      ],
      "execution_count": 144,
      "outputs": [
        {
          "output_type": "stream",
          "text": [
            "{'Clothing': 0, 'Furniture': 1, 'Footwear': 2, 'Pet Supplies': 3, 'Pens & Stationery': 4, 'Sports & Fitness': 5, 'Beauty and Personal Care': 6, 'Bags, Wallets & Belts': 7, 'Home Decor & Festive Needs': 8, 'Automotive': 9, 'Tools & Hardware': 10, 'Home Furnishing': 11, 'Baby Care': 12, 'Mobiles & Accessories': 13, 'Watches': 14, 'Toys & School Supplies': 15, 'Jewellery': 16, 'Kitchen & Dining': 17, 'Home & Kitchen': 18, 'Computers': 19, 'Cameras & Accessories': 20, 'Health & Personal Care Appliances': 21, 'Gaming': 22, 'Home Improvement': 23, 'Sunglasses': 24, 'Home Entertainment': 25, 'Eyewear': 26, 'eBooks': 27}\n"
          ],
          "name": "stdout"
        }
      ]
    },
    {
      "cell_type": "markdown",
      "metadata": {
        "id": "IF9pVFvci_eo"
      },
      "source": [
        "Creating the label column for the dataset which gives same output as label encoding"
      ]
    },
    {
      "cell_type": "code",
      "metadata": {
        "id": "rYwE8Buuq7PB"
      },
      "source": [
        "data[\"label\"] = data.main_category.replace(label_dict)"
      ],
      "execution_count": 145,
      "outputs": []
    },
    {
      "cell_type": "markdown",
      "metadata": {
        "id": "oX3gvQ24jIe2"
      },
      "source": [
        "## Spliting the data into training and validation set\n",
        "\n",
        "Visualizing the data with groupby and getting training and validation set number of rows for each classes"
      ]
    },
    {
      "cell_type": "code",
      "metadata": {
        "colab": {
          "base_uri": "https://localhost:8080/",
          "height": 1000
        },
        "id": "hwpFdF5Kyvc-",
        "outputId": "10630ca0-74d7-4257-85bb-0b22f7b75fd5"
      },
      "source": [
        "from sklearn.model_selection import train_test_split \n",
        "\n",
        "X_train , X_val , Y_train , Y_val = train_test_split(data.index.values, data.label.values, test_size = 0.1 , random_state=42 , stratify = data.label.values)\n",
        "data[\"data_type\"] = ['not_set'] * data.shape[0]\n",
        "data.loc[X_train , 'data_type'] = 'train'\n",
        "data.loc[X_val , 'data_type'] = 'val'\n",
        "\n",
        "#Grouping by Main_category , Category_label , Data_type\n",
        "data.groupby([\"main_category\" , \"label\" , \"data_type\"]).count()"
      ],
      "execution_count": 146,
      "outputs": [
        {
          "output_type": "execute_result",
          "data": {
            "text/html": [
              "<div>\n",
              "<style scoped>\n",
              "    .dataframe tbody tr th:only-of-type {\n",
              "        vertical-align: middle;\n",
              "    }\n",
              "\n",
              "    .dataframe tbody tr th {\n",
              "        vertical-align: top;\n",
              "    }\n",
              "\n",
              "    .dataframe thead th {\n",
              "        text-align: right;\n",
              "    }\n",
              "</style>\n",
              "<table border=\"1\" class=\"dataframe\">\n",
              "  <thead>\n",
              "    <tr style=\"text-align: right;\">\n",
              "      <th></th>\n",
              "      <th></th>\n",
              "      <th></th>\n",
              "      <th>product_category_tree</th>\n",
              "      <th>description</th>\n",
              "    </tr>\n",
              "    <tr>\n",
              "      <th>main_category</th>\n",
              "      <th>label</th>\n",
              "      <th>data_type</th>\n",
              "      <th></th>\n",
              "      <th></th>\n",
              "    </tr>\n",
              "  </thead>\n",
              "  <tbody>\n",
              "    <tr>\n",
              "      <th rowspan=\"2\" valign=\"top\">Automotive</th>\n",
              "      <th rowspan=\"2\" valign=\"top\">9</th>\n",
              "      <th>train</th>\n",
              "      <td>911</td>\n",
              "      <td>911</td>\n",
              "    </tr>\n",
              "    <tr>\n",
              "      <th>val</th>\n",
              "      <td>101</td>\n",
              "      <td>101</td>\n",
              "    </tr>\n",
              "    <tr>\n",
              "      <th rowspan=\"2\" valign=\"top\">Baby Care</th>\n",
              "      <th rowspan=\"2\" valign=\"top\">12</th>\n",
              "      <th>train</th>\n",
              "      <td>435</td>\n",
              "      <td>435</td>\n",
              "    </tr>\n",
              "    <tr>\n",
              "      <th>val</th>\n",
              "      <td>48</td>\n",
              "      <td>48</td>\n",
              "    </tr>\n",
              "    <tr>\n",
              "      <th rowspan=\"2\" valign=\"top\">Bags, Wallets &amp; Belts</th>\n",
              "      <th rowspan=\"2\" valign=\"top\">7</th>\n",
              "      <th>train</th>\n",
              "      <td>238</td>\n",
              "      <td>238</td>\n",
              "    </tr>\n",
              "    <tr>\n",
              "      <th>val</th>\n",
              "      <td>27</td>\n",
              "      <td>27</td>\n",
              "    </tr>\n",
              "    <tr>\n",
              "      <th rowspan=\"2\" valign=\"top\">Beauty and Personal Care</th>\n",
              "      <th rowspan=\"2\" valign=\"top\">6</th>\n",
              "      <th>train</th>\n",
              "      <td>639</td>\n",
              "      <td>639</td>\n",
              "    </tr>\n",
              "    <tr>\n",
              "      <th>val</th>\n",
              "      <td>71</td>\n",
              "      <td>71</td>\n",
              "    </tr>\n",
              "    <tr>\n",
              "      <th rowspan=\"2\" valign=\"top\">Cameras &amp; Accessories</th>\n",
              "      <th rowspan=\"2\" valign=\"top\">20</th>\n",
              "      <th>train</th>\n",
              "      <td>74</td>\n",
              "      <td>74</td>\n",
              "    </tr>\n",
              "    <tr>\n",
              "      <th>val</th>\n",
              "      <td>8</td>\n",
              "      <td>8</td>\n",
              "    </tr>\n",
              "    <tr>\n",
              "      <th rowspan=\"2\" valign=\"top\">Clothing</th>\n",
              "      <th rowspan=\"2\" valign=\"top\">0</th>\n",
              "      <th>train</th>\n",
              "      <td>5577</td>\n",
              "      <td>5577</td>\n",
              "    </tr>\n",
              "    <tr>\n",
              "      <th>val</th>\n",
              "      <td>620</td>\n",
              "      <td>620</td>\n",
              "    </tr>\n",
              "    <tr>\n",
              "      <th rowspan=\"2\" valign=\"top\">Computers</th>\n",
              "      <th rowspan=\"2\" valign=\"top\">19</th>\n",
              "      <th>train</th>\n",
              "      <td>520</td>\n",
              "      <td>520</td>\n",
              "    </tr>\n",
              "    <tr>\n",
              "      <th>val</th>\n",
              "      <td>58</td>\n",
              "      <td>58</td>\n",
              "    </tr>\n",
              "    <tr>\n",
              "      <th rowspan=\"2\" valign=\"top\">Eyewear</th>\n",
              "      <th rowspan=\"2\" valign=\"top\">26</th>\n",
              "      <th>train</th>\n",
              "      <td>9</td>\n",
              "      <td>9</td>\n",
              "    </tr>\n",
              "    <tr>\n",
              "      <th>val</th>\n",
              "      <td>1</td>\n",
              "      <td>1</td>\n",
              "    </tr>\n",
              "    <tr>\n",
              "      <th rowspan=\"2\" valign=\"top\">Footwear</th>\n",
              "      <th rowspan=\"2\" valign=\"top\">2</th>\n",
              "      <th>train</th>\n",
              "      <td>1104</td>\n",
              "      <td>1104</td>\n",
              "    </tr>\n",
              "    <tr>\n",
              "      <th>val</th>\n",
              "      <td>123</td>\n",
              "      <td>123</td>\n",
              "    </tr>\n",
              "    <tr>\n",
              "      <th rowspan=\"2\" valign=\"top\">Furniture</th>\n",
              "      <th rowspan=\"2\" valign=\"top\">1</th>\n",
              "      <th>train</th>\n",
              "      <td>162</td>\n",
              "      <td>162</td>\n",
              "    </tr>\n",
              "    <tr>\n",
              "      <th>val</th>\n",
              "      <td>18</td>\n",
              "      <td>18</td>\n",
              "    </tr>\n",
              "    <tr>\n",
              "      <th rowspan=\"2\" valign=\"top\">Gaming</th>\n",
              "      <th rowspan=\"2\" valign=\"top\">22</th>\n",
              "      <th>train</th>\n",
              "      <td>31</td>\n",
              "      <td>31</td>\n",
              "    </tr>\n",
              "    <tr>\n",
              "      <th>val</th>\n",
              "      <td>4</td>\n",
              "      <td>4</td>\n",
              "    </tr>\n",
              "    <tr>\n",
              "      <th rowspan=\"2\" valign=\"top\">Health &amp; Personal Care Appliances</th>\n",
              "      <th rowspan=\"2\" valign=\"top\">21</th>\n",
              "      <th>train</th>\n",
              "      <td>39</td>\n",
              "      <td>39</td>\n",
              "    </tr>\n",
              "    <tr>\n",
              "      <th>val</th>\n",
              "      <td>4</td>\n",
              "      <td>4</td>\n",
              "    </tr>\n",
              "    <tr>\n",
              "      <th rowspan=\"2\" valign=\"top\">Home &amp; Kitchen</th>\n",
              "      <th rowspan=\"2\" valign=\"top\">18</th>\n",
              "      <th>train</th>\n",
              "      <td>22</td>\n",
              "      <td>22</td>\n",
              "    </tr>\n",
              "    <tr>\n",
              "      <th>val</th>\n",
              "      <td>2</td>\n",
              "      <td>2</td>\n",
              "    </tr>\n",
              "    <tr>\n",
              "      <th rowspan=\"2\" valign=\"top\">Home Decor &amp; Festive Needs</th>\n",
              "      <th rowspan=\"2\" valign=\"top\">8</th>\n",
              "      <th>train</th>\n",
              "      <td>836</td>\n",
              "      <td>836</td>\n",
              "    </tr>\n",
              "    <tr>\n",
              "      <th>val</th>\n",
              "      <td>93</td>\n",
              "      <td>93</td>\n",
              "    </tr>\n",
              "    <tr>\n",
              "      <th rowspan=\"2\" valign=\"top\">Home Entertainment</th>\n",
              "      <th rowspan=\"2\" valign=\"top\">25</th>\n",
              "      <th>train</th>\n",
              "      <td>17</td>\n",
              "      <td>17</td>\n",
              "    </tr>\n",
              "    <tr>\n",
              "      <th>val</th>\n",
              "      <td>2</td>\n",
              "      <td>2</td>\n",
              "    </tr>\n",
              "    <tr>\n",
              "      <th rowspan=\"2\" valign=\"top\">Home Furnishing</th>\n",
              "      <th rowspan=\"2\" valign=\"top\">11</th>\n",
              "      <th>train</th>\n",
              "      <td>629</td>\n",
              "      <td>629</td>\n",
              "    </tr>\n",
              "    <tr>\n",
              "      <th>val</th>\n",
              "      <td>70</td>\n",
              "      <td>70</td>\n",
              "    </tr>\n",
              "    <tr>\n",
              "      <th rowspan=\"2\" valign=\"top\">Home Improvement</th>\n",
              "      <th rowspan=\"2\" valign=\"top\">23</th>\n",
              "      <th>train</th>\n",
              "      <td>73</td>\n",
              "      <td>73</td>\n",
              "    </tr>\n",
              "    <tr>\n",
              "      <th>val</th>\n",
              "      <td>8</td>\n",
              "      <td>8</td>\n",
              "    </tr>\n",
              "    <tr>\n",
              "      <th rowspan=\"2\" valign=\"top\">Jewellery</th>\n",
              "      <th rowspan=\"2\" valign=\"top\">16</th>\n",
              "      <th>train</th>\n",
              "      <td>3178</td>\n",
              "      <td>3178</td>\n",
              "    </tr>\n",
              "    <tr>\n",
              "      <th>val</th>\n",
              "      <td>353</td>\n",
              "      <td>353</td>\n",
              "    </tr>\n",
              "    <tr>\n",
              "      <th rowspan=\"2\" valign=\"top\">Kitchen &amp; Dining</th>\n",
              "      <th rowspan=\"2\" valign=\"top\">17</th>\n",
              "      <th>train</th>\n",
              "      <td>582</td>\n",
              "      <td>582</td>\n",
              "    </tr>\n",
              "    <tr>\n",
              "      <th>val</th>\n",
              "      <td>65</td>\n",
              "      <td>65</td>\n",
              "    </tr>\n",
              "    <tr>\n",
              "      <th rowspan=\"2\" valign=\"top\">Mobiles &amp; Accessories</th>\n",
              "      <th rowspan=\"2\" valign=\"top\">13</th>\n",
              "      <th>train</th>\n",
              "      <td>989</td>\n",
              "      <td>989</td>\n",
              "    </tr>\n",
              "    <tr>\n",
              "      <th>val</th>\n",
              "      <td>110</td>\n",
              "      <td>110</td>\n",
              "    </tr>\n",
              "    <tr>\n",
              "      <th rowspan=\"2\" valign=\"top\">Pens &amp; Stationery</th>\n",
              "      <th rowspan=\"2\" valign=\"top\">4</th>\n",
              "      <th>train</th>\n",
              "      <td>282</td>\n",
              "      <td>282</td>\n",
              "    </tr>\n",
              "    <tr>\n",
              "      <th>val</th>\n",
              "      <td>31</td>\n",
              "      <td>31</td>\n",
              "    </tr>\n",
              "    <tr>\n",
              "      <th rowspan=\"2\" valign=\"top\">Pet Supplies</th>\n",
              "      <th rowspan=\"2\" valign=\"top\">3</th>\n",
              "      <th>train</th>\n",
              "      <td>27</td>\n",
              "      <td>27</td>\n",
              "    </tr>\n",
              "    <tr>\n",
              "      <th>val</th>\n",
              "      <td>3</td>\n",
              "      <td>3</td>\n",
              "    </tr>\n",
              "    <tr>\n",
              "      <th rowspan=\"2\" valign=\"top\">Sports &amp; Fitness</th>\n",
              "      <th rowspan=\"2\" valign=\"top\">5</th>\n",
              "      <th>train</th>\n",
              "      <td>149</td>\n",
              "      <td>149</td>\n",
              "    </tr>\n",
              "    <tr>\n",
              "      <th>val</th>\n",
              "      <td>17</td>\n",
              "      <td>17</td>\n",
              "    </tr>\n",
              "    <tr>\n",
              "      <th rowspan=\"2\" valign=\"top\">Sunglasses</th>\n",
              "      <th rowspan=\"2\" valign=\"top\">24</th>\n",
              "      <th>train</th>\n",
              "      <td>31</td>\n",
              "      <td>31</td>\n",
              "    </tr>\n",
              "    <tr>\n",
              "      <th>val</th>\n",
              "      <td>4</td>\n",
              "      <td>4</td>\n",
              "    </tr>\n",
              "    <tr>\n",
              "      <th rowspan=\"2\" valign=\"top\">Tools &amp; Hardware</th>\n",
              "      <th rowspan=\"2\" valign=\"top\">10</th>\n",
              "      <th>train</th>\n",
              "      <td>352</td>\n",
              "      <td>352</td>\n",
              "    </tr>\n",
              "    <tr>\n",
              "      <th>val</th>\n",
              "      <td>39</td>\n",
              "      <td>39</td>\n",
              "    </tr>\n",
              "    <tr>\n",
              "      <th rowspan=\"2\" valign=\"top\">Toys &amp; School Supplies</th>\n",
              "      <th rowspan=\"2\" valign=\"top\">15</th>\n",
              "      <th>train</th>\n",
              "      <td>297</td>\n",
              "      <td>297</td>\n",
              "    </tr>\n",
              "    <tr>\n",
              "      <th>val</th>\n",
              "      <td>33</td>\n",
              "      <td>33</td>\n",
              "    </tr>\n",
              "    <tr>\n",
              "      <th rowspan=\"2\" valign=\"top\">Watches</th>\n",
              "      <th rowspan=\"2\" valign=\"top\">14</th>\n",
              "      <th>train</th>\n",
              "      <td>477</td>\n",
              "      <td>477</td>\n",
              "    </tr>\n",
              "    <tr>\n",
              "      <th>val</th>\n",
              "      <td>53</td>\n",
              "      <td>53</td>\n",
              "    </tr>\n",
              "    <tr>\n",
              "      <th rowspan=\"2\" valign=\"top\">eBooks</th>\n",
              "      <th rowspan=\"2\" valign=\"top\">27</th>\n",
              "      <th>train</th>\n",
              "      <td>14</td>\n",
              "      <td>14</td>\n",
              "    </tr>\n",
              "    <tr>\n",
              "      <th>val</th>\n",
              "      <td>1</td>\n",
              "      <td>1</td>\n",
              "    </tr>\n",
              "  </tbody>\n",
              "</table>\n",
              "</div>"
            ],
            "text/plain": [
              "                                                   product_category_tree  description\n",
              "main_category                     label data_type                                    \n",
              "Automotive                        9     train                        911          911\n",
              "                                        val                          101          101\n",
              "Baby Care                         12    train                        435          435\n",
              "                                        val                           48           48\n",
              "Bags, Wallets & Belts             7     train                        238          238\n",
              "                                        val                           27           27\n",
              "Beauty and Personal Care          6     train                        639          639\n",
              "                                        val                           71           71\n",
              "Cameras & Accessories             20    train                         74           74\n",
              "                                        val                            8            8\n",
              "Clothing                          0     train                       5577         5577\n",
              "                                        val                          620          620\n",
              "Computers                         19    train                        520          520\n",
              "                                        val                           58           58\n",
              "Eyewear                           26    train                          9            9\n",
              "                                        val                            1            1\n",
              "Footwear                          2     train                       1104         1104\n",
              "                                        val                          123          123\n",
              "Furniture                         1     train                        162          162\n",
              "                                        val                           18           18\n",
              "Gaming                            22    train                         31           31\n",
              "                                        val                            4            4\n",
              "Health & Personal Care Appliances 21    train                         39           39\n",
              "                                        val                            4            4\n",
              "Home & Kitchen                    18    train                         22           22\n",
              "                                        val                            2            2\n",
              "Home Decor & Festive Needs        8     train                        836          836\n",
              "                                        val                           93           93\n",
              "Home Entertainment                25    train                         17           17\n",
              "                                        val                            2            2\n",
              "Home Furnishing                   11    train                        629          629\n",
              "                                        val                           70           70\n",
              "Home Improvement                  23    train                         73           73\n",
              "                                        val                            8            8\n",
              "Jewellery                         16    train                       3178         3178\n",
              "                                        val                          353          353\n",
              "Kitchen & Dining                  17    train                        582          582\n",
              "                                        val                           65           65\n",
              "Mobiles & Accessories             13    train                        989          989\n",
              "                                        val                          110          110\n",
              "Pens & Stationery                 4     train                        282          282\n",
              "                                        val                           31           31\n",
              "Pet Supplies                      3     train                         27           27\n",
              "                                        val                            3            3\n",
              "Sports & Fitness                  5     train                        149          149\n",
              "                                        val                           17           17\n",
              "Sunglasses                        24    train                         31           31\n",
              "                                        val                            4            4\n",
              "Tools & Hardware                  10    train                        352          352\n",
              "                                        val                           39           39\n",
              "Toys & School Supplies            15    train                        297          297\n",
              "                                        val                           33           33\n",
              "Watches                           14    train                        477          477\n",
              "                                        val                           53           53\n",
              "eBooks                            27    train                         14           14\n",
              "                                        val                            1            1"
            ]
          },
          "metadata": {
            "tags": []
          },
          "execution_count": 146
        }
      ]
    },
    {
      "cell_type": "markdown",
      "metadata": {
        "id": "PNIiqVwCjo39"
      },
      "source": [
        "## Started using the BERT by importing the tokenizer "
      ]
    },
    {
      "cell_type": "code",
      "metadata": {
        "colab": {
          "base_uri": "https://localhost:8080/"
        },
        "id": "vVNF6C3628d1",
        "outputId": "cd42dcd1-7ea7-415f-96ab-51a18fad6227"
      },
      "source": [
        "#Bert tokenizer = Tokenization is process to take raw text to split into tokens\n",
        "tokenizer = BertTokenizer.from_pretrained(\"bert-base-uncased\" , do_lower_case = True)\n",
        "#To convert the description to tokenized form using batch_encode_plus \n",
        "encoded_data_train = tokenizer.batch_encode_plus(data[data.data_type==\"train\"].description.values , \n",
        "                                                 add_special_tokens = True, return_attention_mask = True ,pad_to_max_length =True , max_length = 450 , return_tensors=\"pt\" )\n",
        "encoded_data_val = tokenizer.batch_encode_plus(data[data.data_type==\"val\"].description.values , \n",
        "                                                 add_special_tokens = True, return_attention_mask = True ,pad_to_max_length =True , max_length = 450 , return_tensors=\"pt\" )\n",
        "\n",
        "\n",
        "#inputs ids for train and validation with the attention mask with the labels\n",
        "input_ids_train = encoded_data_train[\"input_ids\"]\n",
        "attention_masks_train = encoded_data_train[\"attention_mask\"]\n",
        "labels_train = torch.tensor(data[data.data_type==\"train\"].label.values)\n",
        "\n",
        "input_ids_val = encoded_data_val[\"input_ids\"]\n",
        "attention_masks_val = encoded_data_val[\"attention_mask\"]\n",
        "labels_val = torch.tensor(data[data.data_type==\"val\"].label.values)\n",
        "\n",
        "\n",
        "#Creating the training dataset\n",
        "dataset_train = TensorDataset(input_ids_train , attention_masks_train , labels_train)\n",
        "dataset_val = TensorDataset(input_ids_val , attention_masks_val , labels_val)\n"
      ],
      "execution_count": 147,
      "outputs": [
        {
          "output_type": "stream",
          "text": [
            "Truncation was not explicitly activated but `max_length` is provided a specific value, please use `truncation=True` to explicitly truncate examples to max length. Defaulting to 'longest_first' truncation strategy. If you encode pairs of sequences (GLUE-style) with the tokenizer you can select this strategy more precisely by providing a specific strategy to `truncation`.\n",
            "/usr/local/lib/python3.7/dist-packages/transformers/tokenization_utils_base.py:2079: FutureWarning: The `pad_to_max_length` argument is deprecated and will be removed in a future version, use `padding=True` or `padding='longest'` to pad to the longest sequence in the batch, or use `padding='max_length'` to pad to a max length. In this case, you can give a specific length with `max_length` (e.g. `max_length=45`) or leave max_length to None to pad to the maximal input size of the model (e.g. 512 for Bert).\n",
            "  FutureWarning,\n"
          ],
          "name": "stderr"
        }
      ]
    },
    {
      "cell_type": "markdown",
      "metadata": {
        "id": "rPFydNTsmCKd"
      },
      "source": [
        "## Loading the pretrained BERT for sequence classification , which is normal bert plus one fully connected layer "
      ]
    },
    {
      "cell_type": "code",
      "metadata": {
        "colab": {
          "base_uri": "https://localhost:8080/"
        },
        "id": "ll6EIvJ2Mnr0",
        "outputId": "f44078d3-a8d9-4bff-9ebf-b072ff224b9c"
      },
      "source": [
        "\n",
        "#Loading the bert pretrained model \n",
        "model = BertForSequenceClassification.from_pretrained(\"bert-base-uncased\" , num_labels = len(label_dict) , output_attentions=False , output_hidden_states = False)"
      ],
      "execution_count": 148,
      "outputs": [
        {
          "output_type": "stream",
          "text": [
            "Some weights of the model checkpoint at bert-base-uncased were not used when initializing BertForSequenceClassification: ['cls.predictions.bias', 'cls.predictions.transform.dense.weight', 'cls.predictions.transform.dense.bias', 'cls.predictions.decoder.weight', 'cls.seq_relationship.weight', 'cls.seq_relationship.bias', 'cls.predictions.transform.LayerNorm.weight', 'cls.predictions.transform.LayerNorm.bias']\n",
            "- This IS expected if you are initializing BertForSequenceClassification from the checkpoint of a model trained on another task or with another architecture (e.g. initializing a BertForSequenceClassification model from a BertForPreTraining model).\n",
            "- This IS NOT expected if you are initializing BertForSequenceClassification from the checkpoint of a model that you expect to be exactly identical (initializing a BertForSequenceClassification model from a BertForSequenceClassification model).\n",
            "Some weights of BertForSequenceClassification were not initialized from the model checkpoint at bert-base-uncased and are newly initialized: ['classifier.weight', 'classifier.bias']\n",
            "You should probably TRAIN this model on a down-stream task to be able to use it for predictions and inference.\n"
          ],
          "name": "stderr"
        }
      ]
    },
    {
      "cell_type": "markdown",
      "metadata": {
        "id": "H4pDeLBtmMrm"
      },
      "source": [
        "## Making the dataloader for feeding the data into network \n"
      ]
    },
    {
      "cell_type": "code",
      "metadata": {
        "id": "ShI8ZOrBOXvj"
      },
      "source": [
        "#DataLoader combines dataset and sampler and provides iterable over dataset \n",
        "from torch.utils.data import DataLoader , RandomSampler , SequentialSampler\n",
        "\n",
        "#Setting the batch_Size \n",
        "batch_size = 10\n",
        "\n",
        "# Making the dataloader \n",
        "dataloader_train = DataLoader(dataset_train , sampler=RandomSampler(dataset_train) , batch_size = batch_size)\n",
        "\n",
        "#Making validation dataloader \n",
        "dataloader_validation = DataLoader(dataset_val  , sampler = SequentialSampler(dataset_val) , batch_size = batch_size)\n"
      ],
      "execution_count": 149,
      "outputs": []
    },
    {
      "cell_type": "code",
      "metadata": {
        "id": "WLJaz0THRoGg"
      },
      "source": [
        "#Learning rate warmup increases learning rate intially at a linear rate and then then it decreases linearly to 0 \n",
        "from transformers import AdamW , get_linear_schedule_with_warmup \n",
        "\n",
        "optimizer = AdamW(model.parameters() , lr = 1e-5 , eps = 1e-8)\n",
        "epochs = 4\n",
        "\n",
        "# Warmup increases learning rate linearly from 0 to some value then the rate also decreases linearly\n",
        "scheduler = get_linear_schedule_with_warmup(optimizer , num_warmup_steps = 8 , num_training_steps = len(dataloader_train)* epochs)"
      ],
      "execution_count": 150,
      "outputs": []
    },
    {
      "cell_type": "code",
      "metadata": {
        "id": "SK9f3oYiT8lR"
      },
      "source": [
        "# Importing the f1_score calculator from sklearn\n",
        "from sklearn.metrics import f1_score "
      ],
      "execution_count": 151,
      "outputs": []
    },
    {
      "cell_type": "markdown",
      "metadata": {
        "id": "PVjfhXo_oE7x"
      },
      "source": [
        "Creating the f1_score_function to get the F1score and getting accuracy per class"
      ]
    },
    {
      "cell_type": "code",
      "metadata": {
        "id": "ArobEWD3Y8vB"
      },
      "source": [
        "def f1_score_func(preds, labels):\n",
        "    preds_flat = np.argmax(preds, axis=1).flatten()\n",
        "    labels_flat = labels.flatten()\n",
        "    return f1_score(labels_flat, preds_flat, average='weighted')\n",
        "\n",
        "def accuracy_per_class(preds, labels):\n",
        "    label_dict_inverse = {v: k for k, v in label_dict.items()}\n",
        "    \n",
        "    preds_flat = np.argmax(preds, axis=1).flatten()\n",
        "    labels_flat = labels.flatten()\n",
        "\n",
        "    for label in np.unique(labels_flat):\n",
        "        y_preds = preds_flat[labels_flat==label]\n",
        "        y_true = labels_flat[labels_flat==label]\n",
        "        print(f'Class: {label_dict_inverse[label]}')\n",
        "        print(f'Accuracy: {len(y_preds[y_preds==label])}/{len(y_true)}\\n')"
      ],
      "execution_count": 154,
      "outputs": []
    },
    {
      "cell_type": "markdown",
      "metadata": {
        "id": "cwgNgkhPonGh"
      },
      "source": [
        "## Now , finally training the model , model was trained on 4 epochs \n",
        " ## The model was trained 5 times which took a lots of time just for training the BERT"
      ]
    },
    {
      "cell_type": "code",
      "metadata": {
        "id": "EOPyyngHeYl5"
      },
      "source": [
        "import random\n",
        "\n",
        "\n",
        "seed_val = 17\n",
        "random.seed(seed_val)\n",
        "\n",
        "np.random.seed(seed_val)\n",
        "torch.manual_seed(seed_val)\n",
        "\n",
        "torch.cuda.manual_seed_all(seed_val)\n",
        "\n",
        "device = \"cuda:0\"\n",
        "model = model.to(device)\n",
        "\n",
        "def evaluate(dataloader_val):\n",
        "\n",
        "    model.eval()\n",
        "    \n",
        "    loss_val_total = 0\n",
        "    predictions, true_vals = [], []\n",
        "    \n",
        "    for batch in dataloader_val:\n",
        "        \n",
        "        batch = tuple(b.to(device) for b in batch)\n",
        "        \n",
        "        inputs = {'input_ids':      batch[0],\n",
        "                  'attention_mask': batch[1],\n",
        "                  'labels':         batch[2],\n",
        "                 }\n",
        "\n",
        "        with torch.no_grad():        \n",
        "            outputs = model(**inputs)\n",
        "            \n",
        "        loss = outputs[0]\n",
        "        logits = outputs[1]\n",
        "        loss_val_total += loss.item()\n",
        "\n",
        "        logits = logits.detach().cpu().numpy()\n",
        "        label_ids = inputs['labels'].cpu().numpy()\n",
        "        predictions.append(logits)\n",
        "        true_vals.append(label_ids)\n",
        "    \n",
        "    loss_val_avg = loss_val_total/len(dataloader_val) \n",
        "    \n",
        "    predictions = np.concatenate(predictions, axis=0)\n",
        "    true_vals = np.concatenate(true_vals, axis=0)\n",
        "            \n",
        "    return loss_val_avg, predictions, true_vals\n",
        "\n",
        "\n",
        "for epoch in tqdm(range(1, epochs + 1)):\n",
        "  model.train()\n",
        "  loss_train_total = 0 \n",
        "  progress_bar = tqdm(dataloader_train , desc=\"Epoch {:1d}\".format(epoch) , leave=False,disable=False )\n",
        "  for batch in progress_bar:\n",
        "    #setting intial grad to zeros\n",
        "    model.zero_grad()\n",
        "    batch = tuple(b.to(device) for b in batch )\n",
        "    inputs = {\"input_ids\" : batch[0] , \"attention_mask\" : batch[1] , \"labels\" : batch[2]}\n",
        "    outputs = model(**inputs)\n",
        "    loss = outputs[0]\n",
        "    loss_train_total += loss.item()\n",
        "    loss.backward()\n",
        "    #Prevent gradient from exploding\n",
        "    torch.nn.utils.clip_grad_norm_(model.parameters(), 1.0)\n",
        "    optimizer.step()\n",
        "    scheduler.step()\n",
        "    progress_bar.set_postfix({'training_loss': '{:.3f}'.format(loss.item()/len(batch))})\n",
        "  torch.save(model.state_dict(), f'drive/MyDrive/BERT_final_epoch_{epoch}.model')\n",
        "        \n",
        "  tqdm.write(f'\\nEpoch {epoch}')\n",
        "    \n",
        "  loss_train_avg = loss_train_total/len(dataloader_train)            \n",
        "  tqdm.write(f'Training loss: {loss_train_avg}')\n",
        "  val_loss, predictions, true_vals = evaluate(dataloader_validation)\n",
        "  val_f1 = f1_score_func(predictions, true_vals)\n",
        "  tqdm.write(f'Validation loss: {val_loss}')\n",
        "  tqdm.write(f'F1 Score (Weighted): {val_f1}')\n",
        "\n",
        "\n"
      ],
      "execution_count": null,
      "outputs": []
    },
    {
      "cell_type": "markdown",
      "metadata": {
        "id": "hXU0W5pQpNal"
      },
      "source": [
        "## Testing our dataset on the validation set calculating the accuracy per class"
      ]
    },
    {
      "cell_type": "code",
      "metadata": {
        "id": "Nf_dDe5ugII8",
        "colab": {
          "base_uri": "https://localhost:8080/"
        },
        "outputId": "983c447b-8143-43aa-ea9b-c3c0523eae35"
      },
      "source": [
        "model = BertForSequenceClassification.from_pretrained(\"bert-base-uncased\",\n",
        "                                                      num_labels=len(label_dict),\n",
        "                                                      output_attentions=False,\n",
        "                                                      output_hidden_states=False)\n",
        "device = \"cuda:0\"\n",
        "\n",
        "model.to(device)\n",
        "\n",
        "model.load_state_dict(torch.load('drive/MyDrive/BERT_final_epoch_4.model', map_location=torch.device('cpu')))\n",
        "\n",
        "_, predictions, true_vals = evaluate(dataloader_validation)\n",
        "accuracy_per_class(predictions, true_vals)"
      ],
      "execution_count": 155,
      "outputs": [
        {
          "output_type": "stream",
          "text": [
            "Some weights of the model checkpoint at bert-base-uncased were not used when initializing BertForSequenceClassification: ['cls.predictions.bias', 'cls.predictions.transform.dense.weight', 'cls.predictions.transform.dense.bias', 'cls.predictions.decoder.weight', 'cls.seq_relationship.weight', 'cls.seq_relationship.bias', 'cls.predictions.transform.LayerNorm.weight', 'cls.predictions.transform.LayerNorm.bias']\n",
            "- This IS expected if you are initializing BertForSequenceClassification from the checkpoint of a model trained on another task or with another architecture (e.g. initializing a BertForSequenceClassification model from a BertForPreTraining model).\n",
            "- This IS NOT expected if you are initializing BertForSequenceClassification from the checkpoint of a model that you expect to be exactly identical (initializing a BertForSequenceClassification model from a BertForSequenceClassification model).\n",
            "Some weights of BertForSequenceClassification were not initialized from the model checkpoint at bert-base-uncased and are newly initialized: ['classifier.weight', 'classifier.bias']\n",
            "You should probably TRAIN this model on a down-stream task to be able to use it for predictions and inference.\n"
          ],
          "name": "stderr"
        },
        {
          "output_type": "stream",
          "text": [
            "Class: Clothing\n",
            "Accuracy: 615/620\n",
            "\n",
            "Class: Furniture\n",
            "Accuracy: 17/18\n",
            "\n",
            "Class: Footwear\n",
            "Accuracy: 123/123\n",
            "\n",
            "Class: Pet Supplies\n",
            "Accuracy: 2/3\n",
            "\n",
            "Class: Pens & Stationery\n",
            "Accuracy: 19/31\n",
            "\n",
            "Class: Sports & Fitness\n",
            "Accuracy: 15/17\n",
            "\n",
            "Class: Beauty and Personal Care\n",
            "Accuracy: 70/71\n",
            "\n",
            "Class: Bags, Wallets & Belts\n",
            "Accuracy: 26/27\n",
            "\n",
            "Class: Home Decor & Festive Needs\n",
            "Accuracy: 93/93\n",
            "\n",
            "Class: Automotive\n",
            "Accuracy: 101/101\n",
            "\n",
            "Class: Tools & Hardware\n",
            "Accuracy: 39/39\n",
            "\n",
            "Class: Home Furnishing\n",
            "Accuracy: 70/70\n",
            "\n",
            "Class: Baby Care\n",
            "Accuracy: 40/48\n",
            "\n",
            "Class: Mobiles & Accessories\n",
            "Accuracy: 106/110\n",
            "\n",
            "Class: Watches\n",
            "Accuracy: 53/53\n",
            "\n",
            "Class: Toys & School Supplies\n",
            "Accuracy: 29/33\n",
            "\n",
            "Class: Jewellery\n",
            "Accuracy: 352/353\n",
            "\n",
            "Class: Kitchen & Dining\n",
            "Accuracy: 64/65\n",
            "\n",
            "Class: Home & Kitchen\n",
            "Accuracy: 0/2\n",
            "\n",
            "Class: Computers\n",
            "Accuracy: 57/58\n",
            "\n",
            "Class: Cameras & Accessories\n",
            "Accuracy: 8/8\n",
            "\n",
            "Class: Health & Personal Care Appliances\n",
            "Accuracy: 3/4\n",
            "\n",
            "Class: Gaming\n",
            "Accuracy: 3/4\n",
            "\n",
            "Class: Home Improvement\n",
            "Accuracy: 7/8\n",
            "\n",
            "Class: Sunglasses\n",
            "Accuracy: 4/4\n",
            "\n",
            "Class: Home Entertainment\n",
            "Accuracy: 0/2\n",
            "\n",
            "Class: Eyewear\n",
            "Accuracy: 1/1\n",
            "\n",
            "Class: eBooks\n",
            "Accuracy: 0/1\n",
            "\n"
          ],
          "name": "stdout"
        }
      ]
    }
  ]
}